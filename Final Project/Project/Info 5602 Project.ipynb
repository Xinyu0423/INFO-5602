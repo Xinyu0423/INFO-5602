{
 "cells": [
  {
   "cell_type": "code",
   "execution_count": 1,
   "id": "57dcfba2",
   "metadata": {},
   "outputs": [
    {
     "name": "stderr",
     "output_type": "stream",
     "text": [
      "/Users/jiangxinyu/anaconda3/lib/python3.7/site-packages/tensorflow/python/framework/dtypes.py:516: FutureWarning: Passing (type, 1) or '1type' as a synonym of type is deprecated; in a future version of numpy, it will be understood as (type, (1,)) / '(1,)type'.\n",
      "  _np_qint8 = np.dtype([(\"qint8\", np.int8, 1)])\n",
      "/Users/jiangxinyu/anaconda3/lib/python3.7/site-packages/tensorflow/python/framework/dtypes.py:517: FutureWarning: Passing (type, 1) or '1type' as a synonym of type is deprecated; in a future version of numpy, it will be understood as (type, (1,)) / '(1,)type'.\n",
      "  _np_quint8 = np.dtype([(\"quint8\", np.uint8, 1)])\n",
      "/Users/jiangxinyu/anaconda3/lib/python3.7/site-packages/tensorflow/python/framework/dtypes.py:518: FutureWarning: Passing (type, 1) or '1type' as a synonym of type is deprecated; in a future version of numpy, it will be understood as (type, (1,)) / '(1,)type'.\n",
      "  _np_qint16 = np.dtype([(\"qint16\", np.int16, 1)])\n",
      "/Users/jiangxinyu/anaconda3/lib/python3.7/site-packages/tensorflow/python/framework/dtypes.py:519: FutureWarning: Passing (type, 1) or '1type' as a synonym of type is deprecated; in a future version of numpy, it will be understood as (type, (1,)) / '(1,)type'.\n",
      "  _np_quint16 = np.dtype([(\"quint16\", np.uint16, 1)])\n",
      "/Users/jiangxinyu/anaconda3/lib/python3.7/site-packages/tensorflow/python/framework/dtypes.py:520: FutureWarning: Passing (type, 1) or '1type' as a synonym of type is deprecated; in a future version of numpy, it will be understood as (type, (1,)) / '(1,)type'.\n",
      "  _np_qint32 = np.dtype([(\"qint32\", np.int32, 1)])\n",
      "/Users/jiangxinyu/anaconda3/lib/python3.7/site-packages/tensorflow/python/framework/dtypes.py:525: FutureWarning: Passing (type, 1) or '1type' as a synonym of type is deprecated; in a future version of numpy, it will be understood as (type, (1,)) / '(1,)type'.\n",
      "  np_resource = np.dtype([(\"resource\", np.ubyte, 1)])\n",
      "/Users/jiangxinyu/anaconda3/lib/python3.7/site-packages/tensorboard/compat/tensorflow_stub/dtypes.py:541: FutureWarning: Passing (type, 1) or '1type' as a synonym of type is deprecated; in a future version of numpy, it will be understood as (type, (1,)) / '(1,)type'.\n",
      "  _np_qint8 = np.dtype([(\"qint8\", np.int8, 1)])\n",
      "/Users/jiangxinyu/anaconda3/lib/python3.7/site-packages/tensorboard/compat/tensorflow_stub/dtypes.py:542: FutureWarning: Passing (type, 1) or '1type' as a synonym of type is deprecated; in a future version of numpy, it will be understood as (type, (1,)) / '(1,)type'.\n",
      "  _np_quint8 = np.dtype([(\"quint8\", np.uint8, 1)])\n",
      "/Users/jiangxinyu/anaconda3/lib/python3.7/site-packages/tensorboard/compat/tensorflow_stub/dtypes.py:543: FutureWarning: Passing (type, 1) or '1type' as a synonym of type is deprecated; in a future version of numpy, it will be understood as (type, (1,)) / '(1,)type'.\n",
      "  _np_qint16 = np.dtype([(\"qint16\", np.int16, 1)])\n",
      "/Users/jiangxinyu/anaconda3/lib/python3.7/site-packages/tensorboard/compat/tensorflow_stub/dtypes.py:544: FutureWarning: Passing (type, 1) or '1type' as a synonym of type is deprecated; in a future version of numpy, it will be understood as (type, (1,)) / '(1,)type'.\n",
      "  _np_quint16 = np.dtype([(\"quint16\", np.uint16, 1)])\n",
      "/Users/jiangxinyu/anaconda3/lib/python3.7/site-packages/tensorboard/compat/tensorflow_stub/dtypes.py:545: FutureWarning: Passing (type, 1) or '1type' as a synonym of type is deprecated; in a future version of numpy, it will be understood as (type, (1,)) / '(1,)type'.\n",
      "  _np_qint32 = np.dtype([(\"qint32\", np.int32, 1)])\n",
      "/Users/jiangxinyu/anaconda3/lib/python3.7/site-packages/tensorboard/compat/tensorflow_stub/dtypes.py:550: FutureWarning: Passing (type, 1) or '1type' as a synonym of type is deprecated; in a future version of numpy, it will be understood as (type, (1,)) / '(1,)type'.\n",
      "  np_resource = np.dtype([(\"resource\", np.ubyte, 1)])\n"
     ]
    }
   ],
   "source": [
    "from sklearn.linear_model import LogisticRegression\n",
    "from sklearn.naive_bayes import GaussianNB\n",
    "from sklearn import svm\n",
    "from sklearn.ensemble import RandomForestClassifier\n",
    "from sklearn.neighbors import KNeighborsClassifier\n",
    "\n",
    "from sklearn.metrics import classification_report\n",
    "from sklearn.metrics import accuracy_score\n",
    "from sklearn.model_selection import train_test_split\n",
    "\n",
    "import matplotlib.pyplot as plt\n",
    "import seaborn as sns; sns.set_theme()\n",
    "\n",
    "\n",
    "import tensorflow as tf\n",
    "import h5py\n",
    "\n",
    "import pandas as pd\n",
    "import numpy as np"
   ]
  },
  {
   "cell_type": "markdown",
   "id": "c343f570",
   "metadata": {},
   "source": [
    "## data source\n",
    "https://data.binance.vision/?prefix=data/spot/monthly/klines/"
   ]
  },
  {
   "cell_type": "code",
   "execution_count": 2,
   "id": "b45303ca",
   "metadata": {},
   "outputs": [
    {
     "name": "stdout",
     "output_type": "stream",
     "text": [
      "(8747, 12)\n"
     ]
    }
   ],
   "source": [
    "# import ethusd data\n",
    "ethusd202101 = pd.read_csv('ethusd/ETHUSDT-1h-2021-01.csv', names = ['Open time', 'Open', 'High', 'Low', 'Close', 'Volume', 'Close time', 'Quote asset volume' , 'Number of trades', 'Taker buy base asset volume',\n",
    "                                                                                                            'Taker buy quote asset volume', 'Ignore' ])\n",
    "ethusd202102 = pd.read_csv('ethusd/ETHUSDT-1h-2021-02.csv', names = ['Open time', 'Open', 'High', 'Low', 'Close', 'Volume', 'Close time', 'Quote asset volume' , 'Number of trades', 'Taker buy base asset volume',\n",
    "                                                                                                            'Taker buy quote asset volume', 'Ignore' ])\n",
    "ethusd202103 = pd.read_csv('ethusd/ETHUSDT-1h-2021-03.csv', names = ['Open time', 'Open', 'High', 'Low', 'Close', 'Volume', 'Close time', 'Quote asset volume' , 'Number of trades', 'Taker buy base asset volume',\n",
    "                                                                                                            'Taker buy quote asset volume', 'Ignore' ])\n",
    "ethusd202104 = pd.read_csv('ethusd/ETHUSDT-1h-2021-04.csv', names = ['Open time', 'Open', 'High', 'Low', 'Close', 'Volume', 'Close time', 'Quote asset volume' , 'Number of trades', 'Taker buy base asset volume',\n",
    "                                                                                                            'Taker buy quote asset volume', 'Ignore' ])\n",
    "ethusd202105 = pd.read_csv('ethusd/ETHUSDT-1h-2021-05.csv', names = ['Open time', 'Open', 'High', 'Low', 'Close', 'Volume', 'Close time', 'Quote asset volume' , 'Number of trades', 'Taker buy base asset volume',\n",
    "                                                                                                            'Taker buy quote asset volume', 'Ignore' ])\n",
    "ethusd202106 = pd.read_csv('ethusd/ETHUSDT-1h-2021-06.csv', names = ['Open time', 'Open', 'High', 'Low', 'Close', 'Volume', 'Close time', 'Quote asset volume' , 'Number of trades', 'Taker buy base asset volume',\n",
    "                                                                                                            'Taker buy quote asset volume', 'Ignore' ])\n",
    "ethusd202107 = pd.read_csv('ethusd/ETHUSDT-1h-2021-07.csv', names = ['Open time', 'Open', 'High', 'Low', 'Close', 'Volume', 'Close time', 'Quote asset volume' , 'Number of trades', 'Taker buy base asset volume',\n",
    "                                                                                                            'Taker buy quote asset volume', 'Ignore' ])\n",
    "ethusd202108 = pd.read_csv('ethusd/ETHUSDT-1h-2021-08.csv', names = ['Open time', 'Open', 'High', 'Low', 'Close', 'Volume', 'Close time', 'Quote asset volume' , 'Number of trades', 'Taker buy base asset volume',\n",
    "                                                                                                            'Taker buy quote asset volume', 'Ignore' ])\n",
    "ethusd202109 = pd.read_csv('ethusd/ETHUSDT-1h-2021-09.csv', names = ['Open time', 'Open', 'High', 'Low', 'Close', 'Volume', 'Close time', 'Quote asset volume' , 'Number of trades', 'Taker buy base asset volume',\n",
    "                                                                                                            'Taker buy quote asset volume', 'Ignore' ])\n",
    "ethusd202110 = pd.read_csv('ethusd/ETHUSDT-1h-2021-10.csv', names = ['Open time', 'Open', 'High', 'Low', 'Close', 'Volume', 'Close time', 'Quote asset volume' , 'Number of trades', 'Taker buy base asset volume',\n",
    "                                                                                                            'Taker buy quote asset volume', 'Ignore' ])\n",
    "ethusd202111 = pd.read_csv('ethusd/ETHUSDT-1h-2021-11.csv', names = ['Open time', 'Open', 'High', 'Low', 'Close', 'Volume', 'Close time', 'Quote asset volume' , 'Number of trades', 'Taker buy base asset volume',\n",
    "                                                                                                            'Taker buy quote asset volume', 'Ignore' ])\n",
    "ethusd202112 = pd.read_csv('ethusd/ETHUSDT-1h-2021-12.csv', names = ['Open time', 'Open', 'High', 'Low', 'Close', 'Volume', 'Close time', 'Quote asset volume' , 'Number of trades', 'Taker buy base asset volume',\n",
    "                                                                                                            'Taker buy quote asset volume', 'Ignore' ])\n",
    "\n",
    "ethusd = pd.DataFrame()\n",
    "frame = [ethusd202101, ethusd202102, ethusd202103, ethusd202104, ethusd202105, ethusd202106, ethusd202107, ethusd202108, ethusd202109, ethusd202110,ethusd202111,ethusd202112]\n",
    "for df in frame:\n",
    "    ethusd = ethusd.append(df, ignore_index= True)\n",
    "\n",
    "print(ethusd.shape)\n",
    "\n"
   ]
  },
  {
   "cell_type": "code",
   "execution_count": 3,
   "id": "2dc3cac9",
   "metadata": {},
   "outputs": [
    {
     "name": "stdout",
     "output_type": "stream",
     "text": [
      "(8747, 12)\n"
     ]
    }
   ],
   "source": [
    "# xtzusd\n",
    "\n",
    "xtzusd202101 = pd.read_csv('xtzusd/XTZUSDT-1h-2021-01.csv', names = ['Open time', 'Open', 'High', 'Low', 'Close', 'Volume', 'Close time', 'Quote asset volume' , 'Number of trades', 'Taker buy base asset volume',\n",
    "                                                                                                            'Taker buy quote asset volume', 'Ignore' ])\n",
    "xtzusd202102 = pd.read_csv('xtzusd/XTZUSDT-1h-2021-02.csv', names = ['Open time', 'Open', 'High', 'Low', 'Close', 'Volume', 'Close time', 'Quote asset volume' , 'Number of trades', 'Taker buy base asset volume',\n",
    "                                                                                                            'Taker buy quote asset volume', 'Ignore' ])\n",
    "xtzusd202103 = pd.read_csv('xtzusd/XTZUSDT-1h-2021-03.csv', names = ['Open time', 'Open', 'High', 'Low', 'Close', 'Volume', 'Close time', 'Quote asset volume' , 'Number of trades', 'Taker buy base asset volume',\n",
    "                                                                                                            'Taker buy quote asset volume', 'Ignore' ])\n",
    "xtzusd202104 = pd.read_csv('xtzusd/XTZUSDT-1h-2021-04.csv', names = ['Open time', 'Open', 'High', 'Low', 'Close', 'Volume', 'Close time', 'Quote asset volume' , 'Number of trades', 'Taker buy base asset volume',\n",
    "                                                                                                            'Taker buy quote asset volume', 'Ignore' ])\n",
    "xtzusd202105 = pd.read_csv('xtzusd/XTZUSDT-1h-2021-05.csv', names = ['Open time', 'Open', 'High', 'Low', 'Close', 'Volume', 'Close time', 'Quote asset volume' , 'Number of trades', 'Taker buy base asset volume',\n",
    "                                                                                                            'Taker buy quote asset volume', 'Ignore' ])\n",
    "xtzusd202106 = pd.read_csv('xtzusd/XTZUSDT-1h-2021-06.csv', names = ['Open time', 'Open', 'High', 'Low', 'Close', 'Volume', 'Close time', 'Quote asset volume' , 'Number of trades', 'Taker buy base asset volume',\n",
    "                                                                                                            'Taker buy quote asset volume', 'Ignore' ])\n",
    "xtzusd202107 = pd.read_csv('xtzusd/XTZUSDT-1h-2021-07.csv', names = ['Open time', 'Open', 'High', 'Low', 'Close', 'Volume', 'Close time', 'Quote asset volume' , 'Number of trades', 'Taker buy base asset volume',\n",
    "                                                                                                            'Taker buy quote asset volume', 'Ignore' ])\n",
    "xtzusd202108 = pd.read_csv('xtzusd/XTZUSDT-1h-2021-08.csv', names = ['Open time', 'Open', 'High', 'Low', 'Close', 'Volume', 'Close time', 'Quote asset volume' , 'Number of trades', 'Taker buy base asset volume',\n",
    "                                                                                                            'Taker buy quote asset volume', 'Ignore' ])\n",
    "xtzusd202109 = pd.read_csv('xtzusd/XTZUSDT-1h-2021-09.csv', names = ['Open time', 'Open', 'High', 'Low', 'Close', 'Volume', 'Close time', 'Quote asset volume' , 'Number of trades', 'Taker buy base asset volume',\n",
    "                                                                                                            'Taker buy quote asset volume', 'Ignore' ])\n",
    "xtzusd202110 = pd.read_csv('xtzusd/XTZUSDT-1h-2021-10.csv', names = ['Open time', 'Open', 'High', 'Low', 'Close', 'Volume', 'Close time', 'Quote asset volume' , 'Number of trades', 'Taker buy base asset volume',\n",
    "                                                                                                            'Taker buy quote asset volume', 'Ignore' ])\n",
    "xtzusd202111 = pd.read_csv('xtzusd/XTZUSDT-1h-2021-11.csv', names = ['Open time', 'Open', 'High', 'Low', 'Close', 'Volume', 'Close time', 'Quote asset volume' , 'Number of trades', 'Taker buy base asset volume',\n",
    "                                                                                                            'Taker buy quote asset volume', 'Ignore' ])\n",
    "xtzusd202112 = pd.read_csv('xtzusd/XTZUSDT-1h-2021-12.csv', names = ['Open time', 'Open', 'High', 'Low', 'Close', 'Volume', 'Close time', 'Quote asset volume' , 'Number of trades', 'Taker buy base asset volume',\n",
    "                                                                                                            'Taker buy quote asset volume', 'Ignore' ])\n",
    "\n",
    "\n",
    "xtzusd = pd.DataFrame()\n",
    "frame = [xtzusd202101, xtzusd202102, xtzusd202103, xtzusd202104, xtzusd202105, xtzusd202106, xtzusd202107, xtzusd202108, xtzusd202109, xtzusd202110, xtzusd202111, xtzusd202112]\n",
    "for df in frame:\n",
    "    xtzusd = xtzusd.append(df, ignore_index= True)\n",
    "\n",
    "print(xtzusd.shape)"
   ]
  },
  {
   "cell_type": "code",
   "execution_count": 4,
   "id": "51047a27",
   "metadata": {},
   "outputs": [
    {
     "name": "stdout",
     "output_type": "stream",
     "text": [
      "(8747, 12)\n"
     ]
    }
   ],
   "source": [
    "# ltcusd\n",
    "ltcusd202101 = pd.read_csv('ltcusd/LTCUSDT-1h-2021-01.csv', names = ['Open time', 'Open', 'High', 'Low', 'Close', 'Volume', 'Close time', 'Quote asset volume' , 'Number of trades', 'Taker buy base asset volume',\n",
    "                                                                                                            'Taker buy quote asset volume', 'Ignore' ])\n",
    "ltcusd202102 = pd.read_csv('ltcusd/LTCUSDT-1h-2021-02.csv', names = ['Open time', 'Open', 'High', 'Low', 'Close', 'Volume', 'Close time', 'Quote asset volume' , 'Number of trades', 'Taker buy base asset volume',\n",
    "                                                                                                            'Taker buy quote asset volume', 'Ignore' ])\n",
    "ltcusd202103 = pd.read_csv('ltcusd/LTCUSDT-1h-2021-03.csv', names = ['Open time', 'Open', 'High', 'Low', 'Close', 'Volume', 'Close time', 'Quote asset volume' , 'Number of trades', 'Taker buy base asset volume',\n",
    "                                                                                                            'Taker buy quote asset volume', 'Ignore' ])\n",
    "ltcusd202104 = pd.read_csv('ltcusd/LTCUSDT-1h-2021-04.csv', names = ['Open time', 'Open', 'High', 'Low', 'Close', 'Volume', 'Close time', 'Quote asset volume' , 'Number of trades', 'Taker buy base asset volume',\n",
    "                                                                                                            'Taker buy quote asset volume', 'Ignore' ])\n",
    "ltcusd202105 = pd.read_csv('ltcusd/LTCUSDT-1h-2021-05.csv', names = ['Open time', 'Open', 'High', 'Low', 'Close', 'Volume', 'Close time', 'Quote asset volume' , 'Number of trades', 'Taker buy base asset volume',\n",
    "                                                                                                            'Taker buy quote asset volume', 'Ignore' ])\n",
    "ltcusd202106 = pd.read_csv('ltcusd/LTCUSDT-1h-2021-06.csv', names = ['Open time', 'Open', 'High', 'Low', 'Close', 'Volume', 'Close time', 'Quote asset volume' , 'Number of trades', 'Taker buy base asset volume',\n",
    "                                                                                                            'Taker buy quote asset volume', 'Ignore' ])\n",
    "ltcusd202107 = pd.read_csv('ltcusd/LTCUSDT-1h-2021-07.csv', names = ['Open time', 'Open', 'High', 'Low', 'Close', 'Volume', 'Close time', 'Quote asset volume' , 'Number of trades', 'Taker buy base asset volume',\n",
    "                                                                                                            'Taker buy quote asset volume', 'Ignore' ])\n",
    "ltcusd202108 = pd.read_csv('ltcusd/LTCUSDT-1h-2021-08.csv', names = ['Open time', 'Open', 'High', 'Low', 'Close', 'Volume', 'Close time', 'Quote asset volume' , 'Number of trades', 'Taker buy base asset volume',\n",
    "                                                                                                            'Taker buy quote asset volume', 'Ignore' ])\n",
    "ltcusd202109 = pd.read_csv('ltcusd/LTCUSDT-1h-2021-09.csv', names = ['Open time', 'Open', 'High', 'Low', 'Close', 'Volume', 'Close time', 'Quote asset volume' , 'Number of trades', 'Taker buy base asset volume',\n",
    "                                                                                                            'Taker buy quote asset volume', 'Ignore' ])\n",
    "ltcusd202110 = pd.read_csv('ltcusd/LTCUSDT-1h-2021-10.csv', names = ['Open time', 'Open', 'High', 'Low', 'Close', 'Volume', 'Close time', 'Quote asset volume' , 'Number of trades', 'Taker buy base asset volume',\n",
    "                                                                                                            'Taker buy quote asset volume', 'Ignore' ])\n",
    "ltcusd202111 = pd.read_csv('ltcusd/LTCUSDT-1h-2021-11.csv', names = ['Open time', 'Open', 'High', 'Low', 'Close', 'Volume', 'Close time', 'Quote asset volume' , 'Number of trades', 'Taker buy base asset volume',\n",
    "                                                                                                            'Taker buy quote asset volume', 'Ignore' ])\n",
    "ltcusd202112 = pd.read_csv('ltcusd/LTCUSDT-1h-2021-12.csv', names = ['Open time', 'Open', 'High', 'Low', 'Close', 'Volume', 'Close time', 'Quote asset volume' , 'Number of trades', 'Taker buy base asset volume',\n",
    "                                                                                                            'Taker buy quote asset volume', 'Ignore' ])\n",
    "\n",
    "ltcusd = pd.DataFrame()\n",
    "frame = [ltcusd202101, ltcusd202102, ltcusd202103, ltcusd202104, ltcusd202105, ltcusd202106, ltcusd202107, ltcusd202108, ltcusd202109, ltcusd202110, ltcusd202111, ltcusd202112]\n",
    "for df in frame:\n",
    "    ltcusd = ltcusd.append(df, ignore_index= True)\n",
    "\n",
    "print(ltcusd.shape)"
   ]
  },
  {
   "cell_type": "code",
   "execution_count": 5,
   "id": "08a24ae7",
   "metadata": {},
   "outputs": [
    {
     "name": "stdout",
     "output_type": "stream",
     "text": [
      "(8747, 12)\n"
     ]
    }
   ],
   "source": [
    "# avaxusd\n",
    "avaxusd202101 = pd.read_csv('AVAXUSDT/AVAXUSDT-1h-2021-01.csv', names = ['Open time', 'Open', 'High', 'Low', 'Close', 'Volume', 'Close time', 'Quote asset volume' , 'Number of trades', 'Taker buy base asset volume',\n",
    "                                                                                                            'Taker buy quote asset volume', 'Ignore' ])\n",
    "avaxusd202102 = pd.read_csv('AVAXUSDT/AVAXUSDT-1h-2021-02.csv', names = ['Open time', 'Open', 'High', 'Low', 'Close', 'Volume', 'Close time', 'Quote asset volume' , 'Number of trades', 'Taker buy base asset volume',\n",
    "                                                                                                            'Taker buy quote asset volume', 'Ignore' ])\n",
    "avaxusd202103 = pd.read_csv('AVAXUSDT/AVAXUSDT-1h-2021-03.csv', names = ['Open time', 'Open', 'High', 'Low', 'Close', 'Volume', 'Close time', 'Quote asset volume' , 'Number of trades', 'Taker buy base asset volume',\n",
    "                                                                                                            'Taker buy quote asset volume', 'Ignore' ])\n",
    "avaxusd202104 = pd.read_csv('AVAXUSDT/AVAXUSDT-1h-2021-04.csv', names = ['Open time', 'Open', 'High', 'Low', 'Close', 'Volume', 'Close time', 'Quote asset volume' , 'Number of trades', 'Taker buy base asset volume',\n",
    "                                                                                                            'Taker buy quote asset volume', 'Ignore' ])\n",
    "avaxusd202105 = pd.read_csv('AVAXUSDT/AVAXUSDT-1h-2021-05.csv', names = ['Open time', 'Open', 'High', 'Low', 'Close', 'Volume', 'Close time', 'Quote asset volume' , 'Number of trades', 'Taker buy base asset volume',\n",
    "                                                                                                            'Taker buy quote asset volume', 'Ignore' ])\n",
    "avaxusd202106 = pd.read_csv('AVAXUSDT/AVAXUSDT-1h-2021-06.csv', names = ['Open time', 'Open', 'High', 'Low', 'Close', 'Volume', 'Close time', 'Quote asset volume' , 'Number of trades', 'Taker buy base asset volume',\n",
    "                                                                                                            'Taker buy quote asset volume', 'Ignore' ])\n",
    "avaxusd202107 = pd.read_csv('AVAXUSDT/AVAXUSDT-1h-2021-07.csv', names = ['Open time', 'Open', 'High', 'Low', 'Close', 'Volume', 'Close time', 'Quote asset volume' , 'Number of trades', 'Taker buy base asset volume',\n",
    "                                                                                                            'Taker buy quote asset volume', 'Ignore' ])\n",
    "avaxusd202108 = pd.read_csv('AVAXUSDT/AVAXUSDT-1h-2021-08.csv', names = ['Open time', 'Open', 'High', 'Low', 'Close', 'Volume', 'Close time', 'Quote asset volume' , 'Number of trades', 'Taker buy base asset volume',\n",
    "                                                                                                            'Taker buy quote asset volume', 'Ignore' ])\n",
    "avaxusd202109 = pd.read_csv('AVAXUSDT/AVAXUSDT-1h-2021-09.csv', names = ['Open time', 'Open', 'High', 'Low', 'Close', 'Volume', 'Close time', 'Quote asset volume' , 'Number of trades', 'Taker buy base asset volume',\n",
    "                                                                                                            'Taker buy quote asset volume', 'Ignore' ])\n",
    "avaxusd202110 = pd.read_csv('AVAXUSDT/AVAXUSDT-1h-2021-10.csv', names = ['Open time', 'Open', 'High', 'Low', 'Close', 'Volume', 'Close time', 'Quote asset volume' , 'Number of trades', 'Taker buy base asset volume',\n",
    "                                                                                                            'Taker buy quote asset volume', 'Ignore' ])\n",
    "avaxusd202111 = pd.read_csv('AVAXUSDT/AVAXUSDT-1h-2021-11.csv', names = ['Open time', 'Open', 'High', 'Low', 'Close', 'Volume', 'Close time', 'Quote asset volume' , 'Number of trades', 'Taker buy base asset volume',\n",
    "                                                                                                            'Taker buy quote asset volume', 'Ignore' ])\n",
    "avaxusd202112 = pd.read_csv('AVAXUSDT/AVAXUSDT-1h-2021-12.csv', names = ['Open time', 'Open', 'High', 'Low', 'Close', 'Volume', 'Close time', 'Quote asset volume' , 'Number of trades', 'Taker buy base asset volume',\n",
    "                                                                                                            'Taker buy quote asset volume', 'Ignore' ])\n",
    "\n",
    "avaxusd = pd.DataFrame()\n",
    "frame = [avaxusd202101, avaxusd202102, avaxusd202103, avaxusd202104, avaxusd202105, avaxusd202106, avaxusd202107, avaxusd202108, avaxusd202109, avaxusd202110, avaxusd202111, avaxusd202112]\n",
    "for df in frame:\n",
    "    avaxusd = avaxusd.append(df, ignore_index= True)\n",
    "\n",
    "print(avaxusd.shape)\n"
   ]
  },
  {
   "cell_type": "code",
   "execution_count": 6,
   "id": "f5a65ba6",
   "metadata": {},
   "outputs": [
    {
     "name": "stdout",
     "output_type": "stream",
     "text": [
      "(8747, 12)\n"
     ]
    }
   ],
   "source": [
    "# btcusd\n",
    "btcusd202101 = pd.read_csv('btcusd/BTCUSDT-1h-2021-01.csv', names = ['Open time', 'Open', 'High', 'Low', 'Close', 'Volume', 'Close time', 'Quote asset volume' , 'Number of trades', 'Taker buy base asset volume',\n",
    "                                                                                                            'Taker buy quote asset volume', 'Ignore' ])\n",
    "btcusd202102 = pd.read_csv('btcusd/BTCUSDT-1h-2021-02.csv', names = ['Open time', 'Open', 'High', 'Low', 'Close', 'Volume', 'Close time', 'Quote asset volume' , 'Number of trades', 'Taker buy base asset volume',\n",
    "                                                                                                            'Taker buy quote asset volume', 'Ignore' ])\n",
    "btcusd202103 = pd.read_csv('btcusd/BTCUSDT-1h-2021-03.csv', names = ['Open time', 'Open', 'High', 'Low', 'Close', 'Volume', 'Close time', 'Quote asset volume' , 'Number of trades', 'Taker buy base asset volume',\n",
    "                                                                                                            'Taker buy quote asset volume', 'Ignore' ])\n",
    "btcusd202104 = pd.read_csv('btcusd/BTCUSDT-1h-2021-04.csv', names = ['Open time', 'Open', 'High', 'Low', 'Close', 'Volume', 'Close time', 'Quote asset volume' , 'Number of trades', 'Taker buy base asset volume',\n",
    "                                                                                                            'Taker buy quote asset volume', 'Ignore' ])\n",
    "btcusd202105 = pd.read_csv('btcusd/BTCUSDT-1h-2021-05.csv', names = ['Open time', 'Open', 'High', 'Low', 'Close', 'Volume', 'Close time', 'Quote asset volume' , 'Number of trades', 'Taker buy base asset volume',\n",
    "                                                                                                            'Taker buy quote asset volume', 'Ignore' ])\n",
    "btcusd202106 = pd.read_csv('btcusd/BTCUSDT-1h-2021-06.csv', names = ['Open time', 'Open', 'High', 'Low', 'Close', 'Volume', 'Close time', 'Quote asset volume' , 'Number of trades', 'Taker buy base asset volume',\n",
    "                                                                                                            'Taker buy quote asset volume', 'Ignore' ])\n",
    "btcusd202107 = pd.read_csv('btcusd/BTCUSDT-1h-2021-07.csv', names = ['Open time', 'Open', 'High', 'Low', 'Close', 'Volume', 'Close time', 'Quote asset volume' , 'Number of trades', 'Taker buy base asset volume',\n",
    "                                                                                                            'Taker buy quote asset volume', 'Ignore' ])\n",
    "btcusd202108 = pd.read_csv('btcusd/BTCUSDT-1h-2021-08.csv', names = ['Open time', 'Open', 'High', 'Low', 'Close', 'Volume', 'Close time', 'Quote asset volume' , 'Number of trades', 'Taker buy base asset volume',\n",
    "                                                                                                            'Taker buy quote asset volume', 'Ignore' ])\n",
    "btcusd202109 = pd.read_csv('btcusd/BTCUSDT-1h-2021-09.csv', names = ['Open time', 'Open', 'High', 'Low', 'Close', 'Volume', 'Close time', 'Quote asset volume' , 'Number of trades', 'Taker buy base asset volume',\n",
    "                                                                                                            'Taker buy quote asset volume', 'Ignore' ])\n",
    "btcusd202110 = pd.read_csv('btcusd/BTCUSDT-1h-2021-10.csv', names = ['Open time', 'Open', 'High', 'Low', 'Close', 'Volume', 'Close time', 'Quote asset volume' , 'Number of trades', 'Taker buy base asset volume',\n",
    "                                                                                                            'Taker buy quote asset volume', 'Ignore' ])\n",
    "btcusd202111 = pd.read_csv('btcusd/BTCUSDT-1h-2021-11.csv', names = ['Open time', 'Open', 'High', 'Low', 'Close', 'Volume', 'Close time', 'Quote asset volume' , 'Number of trades', 'Taker buy base asset volume',\n",
    "                                                                                                            'Taker buy quote asset volume', 'Ignore' ])\n",
    "btcusd202112 = pd.read_csv('btcusd/BTCUSDT-1h-2021-12.csv', names = ['Open time', 'Open', 'High', 'Low', 'Close', 'Volume', 'Close time', 'Quote asset volume' , 'Number of trades', 'Taker buy base asset volume',\n",
    "                                                                                                            'Taker buy quote asset volume', 'Ignore' ])\n",
    "\n",
    "btcusd = pd.DataFrame()\n",
    "frame = [btcusd202101, btcusd202102, btcusd202103, btcusd202104, btcusd202105, btcusd202106, btcusd202107, btcusd202108, btcusd202109, btcusd202110,btcusd202111, btcusd202112]\n",
    "for df in frame:\n",
    "    btcusd = btcusd.append(df, ignore_index= True)\n",
    "\n",
    "print(btcusd.shape)"
   ]
  },
  {
   "cell_type": "code",
   "execution_count": 7,
   "id": "8b952607",
   "metadata": {},
   "outputs": [
    {
     "name": "stdout",
     "output_type": "stream",
     "text": [
      "         Close time   ETHUSD  XTZUSD  LTCUSD   AVAXUSD    BTCUSD\n",
      "0     1609462799999   734.07  2.0038  123.87    3.2461  28995.13\n",
      "1     1609466399999   748.28  2.0605  131.70    3.1709  29409.99\n",
      "2     1609469999999   744.06  2.0828  133.33    3.0891  29194.65\n",
      "3     1609473599999   744.82  2.0724  131.66    3.1085  29278.40\n",
      "4     1609477199999   742.29  2.0358  130.87    3.0901  29220.31\n",
      "...             ...      ...     ...     ...       ...       ...\n",
      "8742  1640980799999  3626.27  4.2100  143.90  102.8100  45728.28\n",
      "8743  1640984399999  3645.04  4.2000  144.10  106.9200  45879.24\n",
      "8744  1640987999999  3688.41  4.2990  146.20  108.8700  46333.86\n",
      "8745  1640991599999  3681.80  4.3170  146.10  111.5700  46303.99\n",
      "8746  1640995199999  3676.23  4.3400  146.30  109.4300  46216.93\n",
      "\n",
      "[8747 rows x 6 columns]\n"
     ]
    }
   ],
   "source": [
    "#preprocessing\n",
    "#eth\n",
    "ethusd_dropped = ethusd.drop(ethusd.columns[7:12], axis = 1)\n",
    "#print(ethusd_dropped)\n",
    "ethusd_close = ethusd_dropped[\"Close\"]\n",
    "#xtz\n",
    "xtzusd_dropped = xtzusd.drop(xtzusd.columns[7:12], axis = 1)\n",
    "#print(xtzusd_dropped)\n",
    "xtzusd_close = xtzusd_dropped[\"Close\"]\n",
    "\n",
    "#ltc\n",
    "ltcusd_dropped = ltcusd.drop(ltcusd.columns[7:12], axis = 1)\n",
    "\n",
    "ltcusd_close = ltcusd_dropped[\"Close\"]\n",
    "\n",
    "# avax\n",
    "avaxusd_dropped=avaxusd.drop(avaxusd.columns[7:12], axis = 1)\n",
    "\n",
    "avaxusd_close = avaxusd_dropped[\"Close\"]\n",
    "\n",
    "#btc\n",
    "btcusd_dropped = btcusd.drop(btcusd.columns[7:12], axis = 1)\n",
    "\n",
    "btcusd_close = btcusd_dropped[\"Close\"]\n",
    "\n",
    "close_prices = pd.concat([btcusd_dropped[\"Close time\"], ethusd_close, xtzusd_close, ltcusd_close,avaxusd_close, btcusd_close], axis = 1)\n",
    "close_prices.columns.values[1] = \"ETHUSD\"\n",
    "close_prices.columns.values[2] = \"XTZUSD\"\n",
    "close_prices.columns.values[3] = \"LTCUSD\"\n",
    "close_prices.columns.values[4] = \"AVAXUSD\"\n",
    "close_prices.columns.values[5] = \"BTCUSD\"\n",
    "#close_prices = close_prices.rename(columns = {\"Close time\":\"close time\", \"Close\" : \"ETHUSD\", \"Close\": \"XTZUSD\", \"Close\": \"LTCUSD\", \"Close\": \"BTCUSD\"})\n",
    "print(close_prices)\n",
    "#concat"
   ]
  },
  {
   "cell_type": "code",
   "execution_count": 10,
   "id": "516c895d",
   "metadata": {},
   "outputs": [
    {
     "data": {
      "text/plain": [
       "Text(0, 0.5, 'Average Correlation')"
      ]
     },
     "execution_count": 10,
     "metadata": {},
     "output_type": "execute_result"
    },
    {
     "data": {
      "image/png": "[encoded data removed]",
      "text/plain": [
       "<Figure size 864x288 with 1 Axes>"
      ]
     },
     "metadata": {},
     "output_type": "display_data"
    }
   ],
   "source": [
    "blue, orange, red ,yellow = '#1f77b4', '#ff7f0e', '#d62728', '#eeff1b'  \n",
    "plt.figure(figsize=(12,4))\n",
    "plt.grid()\n",
    "avg_corr1, avg_corr2, avg_corr3, avg_corr4 = list(), list(), list(), list()\n",
    "for win in range(3, 72): # hours\n",
    "    avg_corr1.append(close_prices.ETHUSD.rolling(win).corr(close_prices.BTCUSD) \\\n",
    "                     .replace([np.inf, -np.inf], np.nan).dropna().mean())\n",
    "    avg_corr2.append(close_prices.XTZUSD.rolling(win).corr(close_prices.BTCUSD) \\\n",
    "                     .replace([np.inf, -np.inf], np.nan).dropna().mean())\n",
    "    avg_corr3.append(close_prices.LTCUSD.rolling(win).corr(close_prices.BTCUSD) \\\n",
    "                     .replace([np.inf, -np.inf], np.nan).dropna().mean())\n",
    "    avg_corr4.append(close_prices.AVAXUSD.rolling(win).corr(close_prices.BTCUSD) \\\n",
    "                     .replace([np.inf, -np.inf], np.nan).dropna().mean())\n",
    "\n",
    "    \n",
    "plt.plot(range(3, 72), avg_corr1, '.-', color=blue, label='ETH vs BTC')\n",
    "plt.plot(range(3, 72), avg_corr2, '.-', color=orange, label='XTZ vs BTC')\n",
    "plt.plot(range(3, 72), avg_corr3, '.-', color=red, label='LTC vs BTC')\n",
    "plt.plot(range(3, 72), avg_corr4, '.-', color=yellow, label='AVAX vs BTC')\n",
    "\n",
    " \n",
    "plt.legend()\n",
    "plt.xlabel('Rolling Window Length [hours]', fontsize=12)\n",
    "plt.ylabel('Average Correlation', fontsize=12)"
   ]
  },
  {
   "cell_type": "code",
   "execution_count": null,
   "id": "2326e8a3",
   "metadata": {},
   "outputs": [],
   "source": []
  }
 ],
 "metadata": {
  "kernelspec": {
   "display_name": "Python 3",
   "language": "python",
   "name": "python3"
  },
  "language_info": {
   "codemirror_mode": {
    "name": "ipython",
    "version": 3
   },
   "file_extension": ".py",
   "mimetype": "text/x-python",
   "name": "python",
   "nbconvert_exporter": "python",
   "pygments_lexer": "ipython3",
   "version": "3.7.5"
  }
 },
 "nbformat": 4,
 "nbformat_minor": 5
}
