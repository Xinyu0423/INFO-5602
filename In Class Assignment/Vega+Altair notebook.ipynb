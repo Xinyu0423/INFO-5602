{
 "cells": [
  {
   "cell_type": "markdown",
   "metadata": {},
   "source": [
    "## Under the hood with Altair\n",
    "\n",
    "In this notebook, we will examine Altair [under the hood](https://altair-viz.github.io/user_guide/internals.html). The Altair docs specify that Altair is a \"Python API for generating validated Vega-Lite specifications\". That's it! \n",
    "- So you can think of Altair as a Python wrapper for Vega-Lite. \n",
    "- Vega lite is a declarative specification for graphics. It's a grammar, like we discussed on Friday."
   ]
  },
  {
   "cell_type": "code",
   "execution_count": 2,
   "metadata": {},
   "outputs": [
    {
     "name": "stdout",
     "output_type": "stream",
     "text": [
      "Traceback (most recent call last):\r\n",
      "  File \"/Users/jiangxinyu/anaconda3/bin/pip\", line 7, in <module>\r\n",
      "    from pip._internal.cli.main import main\r\n",
      "  File \"/Users/jiangxinyu/anaconda3/lib/python3.7/site-packages/pip/_internal/cli/main.py\", line 8, in <module>\r\n",
      "    from pip._internal.cli.autocompletion import autocomplete\r\n",
      "  File \"/Users/jiangxinyu/anaconda3/lib/python3.7/site-packages/pip/_internal/cli/autocompletion.py\", line 9, in <module>\r\n",
      "    from pip._internal.cli.main_parser import create_main_parser\r\n",
      "  File \"/Users/jiangxinyu/anaconda3/lib/python3.7/site-packages/pip/_internal/cli/main_parser.py\", line 7, in <module>\r\n",
      "    from pip._internal.cli import cmdoptions\r\n",
      "  File \"/Users/jiangxinyu/anaconda3/lib/python3.7/site-packages/pip/_internal/cli/cmdoptions.py\", line 22, in <module>\r\n",
      "    from pip._internal.cli.progress_bars import BAR_TYPES\r\n",
      "  File \"/Users/jiangxinyu/anaconda3/lib/python3.7/site-packages/pip/_internal/cli/progress_bars.py\", line 9, in <module>\r\n",
      "    from pip._internal.utils.logging import get_indentation\r\n",
      "  File \"/Users/jiangxinyu/anaconda3/lib/python3.7/site-packages/pip/_internal/utils/logging.py\", line 14, in <module>\r\n",
      "    from pip._internal.utils.misc import ensure_dir\r\n",
      "  File \"/Users/jiangxinyu/anaconda3/lib/python3.7/site-packages/pip/_internal/utils/misc.py\", line 29, in <module>\r\n",
      "    from pip._internal.locations import get_major_minor_version, site_packages, user_site\r\n",
      "  File \"/Users/jiangxinyu/anaconda3/lib/python3.7/site-packages/pip/_internal/locations/__init__.py\", line 9, in <module>\r\n",
      "    from . import _distutils, _sysconfig\r\n",
      "  File \"/Users/jiangxinyu/anaconda3/lib/python3.7/site-packages/pip/_internal/locations/_sysconfig.py\", line 8, in <module>\r\n",
      "    from pip._internal.exceptions import InvalidSchemeCombination, UserInstallationInvalid\r\n",
      "ImportError: cannot import name 'InvalidSchemeCombination' from 'pip._internal.exceptions' (/Users/jiangxinyu/anaconda3/lib/python3.7/site-packages/pip/_internal/exceptions.py)\r\n"
     ]
    }
   ],
   "source": [
    "! pip install vega_datasets # to get started"
   ]
  },
  {
   "cell_type": "code",
   "execution_count": 3,
   "metadata": {},
   "outputs": [
    {
     "name": "stdout",
     "output_type": "stream",
     "text": [
      "{\n",
      "  \"$schema\": \"https://vega.github.io/schema/vega-lite/v4.17.0.json\",\n",
      "  \"config\": {\n",
      "    \"view\": {\n",
      "      \"continuousHeight\": 300,\n",
      "      \"continuousWidth\": 500\n",
      "    }\n",
      "  },\n",
      "  \"data\": {\n",
      "    \"url\": \"https://cdn.jsdelivr.net/npm/vega-datasets@v1.29.0/data/cars.json\"\n",
      "  },\n",
      "  \"encoding\": {\n",
      "    \"color\": {\n",
      "      \"field\": \"Origin\",\n",
      "      \"type\": \"nominal\"\n",
      "    },\n",
      "    \"x\": {\n",
      "      \"field\": \"Horsepower\",\n",
      "      \"type\": \"quantitative\"\n",
      "    },\n",
      "    \"y\": {\n",
      "      \"field\": \"Miles_per_Gallon\",\n",
      "      \"type\": \"quantitative\"\n",
      "    }\n",
      "  },\n",
      "  \"mark\": \"bar\"\n",
      "}\n"
     ]
    }
   ],
   "source": [
    "import altair as alt\n",
    "from vega_datasets import data\n",
    "\n",
    "chart = alt.Chart(\"https://cdn.jsdelivr.net/npm/vega-datasets@v1.29.0/data/cars.json\").mark_bar().encode(\n",
    "    x='Horsepower:Q',\n",
    "    y='Miles_per_Gallon:Q',\n",
    "    color='Origin:N',\n",
    ").configure_view(\n",
    "    continuousHeight=300,\n",
    "    continuousWidth=500,\n",
    ")\n",
    "\n",
    "print(chart.to_json(indent=2))"
   ]
  },
  {
   "cell_type": "markdown",
   "metadata": {},
   "source": [
    "### What are the fields in the dictionary above? What do you think they mean?\n",
    "\n",
    "Generate the data with x axis equal to `Horsepower` and y axis equal to `Miles_per_Gallon` and set the color to `Origin`. Print is printing the jason to visiulize it."
   ]
  },
  {
   "cell_type": "markdown",
   "metadata": {},
   "source": [
    "### Try changing the Altair code above. What do you notice is different in the output Vega specification?\n",
    "\n",
    "Describe your findings here. Try a few different changes in new cells below here. Comment on your observations below. How do your changes in Altair cause changes in the Vega grammar? Try to be as specific as possible."
   ]
  },
  {
   "cell_type": "code",
   "execution_count": 5,
   "metadata": {},
   "outputs": [
    {
     "name": "stdout",
     "output_type": "stream",
     "text": [
      "{\n",
      "  \"$schema\": \"https://vega.github.io/schema/vega-lite/v4.17.0.json\",\n",
      "  \"config\": {\n",
      "    \"view\": {\n",
      "      \"continuousHeight\": 300,\n",
      "      \"continuousWidth\": 500\n",
      "    }\n",
      "  },\n",
      "  \"data\": {\n",
      "    \"name\": \"data-40af22ac401de99d2b3ca87883b39eed\"\n",
      "  },\n",
      "  \"datasets\": {\n",
      "    \"data-40af22ac401de99d2b3ca87883b39eed\": [\n",
      "      {\n",
      "        \"Horsepower\": 1,\n",
      "        \"Miles_per_Gallon\": -1\n",
      "      },\n",
      "      {\n",
      "        \"Horsepower\": 2,\n",
      "        \"Miles_per_Gallon\": -2\n",
      "      },\n",
      "      {\n",
      "        \"Horsepower\": 3,\n",
      "        \"Miles_per_Gallon\": -3\n",
      "      }\n",
      "    ]\n",
      "  },\n",
      "  \"encoding\": {\n",
      "    \"x\": {\n",
      "      \"field\": \"Horsepower\",\n",
      "      \"type\": \"ordinal\"\n",
      "    },\n",
      "    \"y\": {\n",
      "      \"field\": \"Miles_per_Gallon\",\n",
      "      \"type\": \"quantitative\"\n",
      "    }\n",
      "  },\n",
      "  \"mark\": \"bar\"\n",
      "}\n"
     ]
    }
   ],
   "source": [
    "import pandas as pd  # one example to start\n",
    "\n",
    "df = pd.DataFrame({'Horsepower': [1,2,3],\n",
    "                    'Miles_per_Gallon': [-1, -2, -3]})\n",
    "\n",
    "chart = alt.Chart(df).mark_bar().encode(\n",
    "    x='Horsepower:O',\n",
    "    y='Miles_per_Gallon:Q'\n",
    ").configure_view(\n",
    "    continuousHeight=300,  \n",
    "    continuousWidth=500,\n",
    ")\n",
    "\n",
    "\n",
    "print(chart.to_json(indent=2))"
   ]
  },
  {
   "cell_type": "markdown",
   "metadata": {},
   "source": [
    "Change from `mark_point` to `mark_bar`"
   ]
  },
  {
   "cell_type": "markdown",
   "metadata": {},
   "source": [
    "### Altair to vega\n",
    "\n",
    "Try copying your Altair json printout into the [Vega lite](https://vega.github.io/editor/#/custom/vega-lite) editor. It should just work. "
   ]
  },
  {
   "cell_type": "markdown",
   "metadata": {},
   "source": [
    "### Alternately, you can  render Vega json specifications as Altair charts"
   ]
  },
  {
   "cell_type": "code",
   "execution_count": 22,
   "metadata": {
    "scrolled": false
   },
   "outputs": [
    {
     "data": {
      "text/html": [
       "\n",
       "<div id=\"altair-viz-8217200290024650a73f10e29e758dbc\"></div>\n",
       "<script type=\"text/javascript\">\n",
       "  var VEGA_DEBUG = (typeof VEGA_DEBUG == \"undefined\") ? {} : VEGA_DEBUG;\n",
       "  (function(spec, embedOpt){\n",
       "    let outputDiv = document.currentScript.previousElementSibling;\n",
       "    if (outputDiv.id !== \"altair-viz-8217200290024650a73f10e29e758dbc\") {\n",
       "      outputDiv = document.getElementById(\"altair-viz-8217200290024650a73f10e29e758dbc\");\n",
       "    }\n",
       "    const paths = {\n",
       "      \"vega\": \"https://cdn.jsdelivr.net/npm//vega@5?noext\",\n",
       "      \"vega-lib\": \"https://cdn.jsdelivr.net/npm//vega-lib?noext\",\n",
       "      \"vega-lite\": \"https://cdn.jsdelivr.net/npm//vega-lite@4.17.0?noext\",\n",
       "      \"vega-embed\": \"https://cdn.jsdelivr.net/npm//vega-embed@6?noext\",\n",
       "    };\n",
       "\n",
       "    function maybeLoadScript(lib, version) {\n",
       "      var key = `${lib.replace(\"-\", \"\")}_version`;\n",
       "      return (VEGA_DEBUG[key] == version) ?\n",
       "        Promise.resolve(paths[lib]) :\n",
       "        new Promise(function(resolve, reject) {\n",
       "          var s = document.createElement('script');\n",
       "          document.getElementsByTagName(\"head\")[0].appendChild(s);\n",
       "          s.async = true;\n",
       "          s.onload = () => {\n",
       "            VEGA_DEBUG[key] = version;\n",
       "            return resolve(paths[lib]);\n",
       "          };\n",
       "          s.onerror = () => reject(`Error loading script: ${paths[lib]}`);\n",
       "          s.src = paths[lib];\n",
       "        });\n",
       "    }\n",
       "\n",
       "    function showError(err) {\n",
       "      outputDiv.innerHTML = `<div class=\"error\" style=\"color:red;\">${err}</div>`;\n",
       "      throw err;\n",
       "    }\n",
       "\n",
       "    function displayChart(vegaEmbed) {\n",
       "      vegaEmbed(outputDiv, spec, embedOpt)\n",
       "        .catch(err => showError(`Javascript Error: ${err.message}<br>This usually means there's a typo in your chart specification. See the javascript console for the full traceback.`));\n",
       "    }\n",
       "\n",
       "    if(typeof define === \"function\" && define.amd) {\n",
       "      requirejs.config({paths});\n",
       "      require([\"vega-embed\"], displayChart, err => showError(`Error loading script: ${err.message}`));\n",
       "    } else {\n",
       "      maybeLoadScript(\"vega\", \"5\")\n",
       "        .then(() => maybeLoadScript(\"vega-lite\", \"4.17.0\"))\n",
       "        .then(() => maybeLoadScript(\"vega-embed\", \"6\"))\n",
       "        .catch(showError)\n",
       "        .then(() => displayChart(vegaEmbed));\n",
       "    }\n",
       "  })({\"config\": {\"view\": {\"continuousWidth\": 400, \"continuousHeight\": 300}}, \"data\": {\"name\": \"data-c2a3e89ba9d5d1687d5e8c28d630a033\"}, \"mark\": \"bar\", \"description\": \"A simple bar chart with embedded data.\", \"encoding\": {\"x\": {\"field\": \"a\", \"type\": \"ordinal\"}, \"y\": {\"field\": \"b\", \"type\": \"quantitative\"}}, \"$schema\": \"https://vega.github.io/schema/vega-lite/v4.json\", \"datasets\": {\"data-c2a3e89ba9d5d1687d5e8c28d630a033\": [{\"a\": \"A\", \"b\": 28}, {\"a\": \"B\", \"b\": 55}, {\"a\": \"C\", \"b\": 43}, {\"a\": \"D\", \"b\": 91}, {\"a\": \"E\", \"b\": 81}, {\"a\": \"F\", \"b\": 53}, {\"a\": \"G\", \"b\": 19}, {\"a\": \"H\", \"b\": 87}, {\"a\": \"I\", \"b\": 52}]}}, {\"mode\": \"vega-lite\"});\n",
       "</script>"
      ],
      "text/plain": [
       "alt.Chart(...)"
      ]
     },
     "execution_count": 22,
     "metadata": {},
     "output_type": "execute_result"
    }
   ],
   "source": [
    "alt.Chart.from_json(\"\"\"\n",
    "{\n",
    "  \"$schema\": \"https://vega.github.io/schema/vega-lite/v4.json\",\n",
    "  \"description\": \"A simple bar chart with embedded data.\",\n",
    "  \"data\": {\n",
    "    \"values\": [\n",
    "      {\"a\": \"A\",\"b\": 28}, {\"a\": \"B\",\"b\": 55}, {\"a\": \"C\",\"b\": 43},\n",
    "      {\"a\": \"D\",\"b\": 91}, {\"a\": \"E\",\"b\": 81}, {\"a\": \"F\",\"b\": 53},\n",
    "      {\"a\": \"G\",\"b\": 19}, {\"a\": \"H\",\"b\": 87}, {\"a\": \"I\",\"b\": 52}\n",
    "    ]\n",
    "  },\n",
    "  \"mark\": \"bar\",\n",
    "  \"encoding\": {\n",
    "    \"x\": {\"field\": \"a\", \"type\": \"ordinal\"},\n",
    "    \"y\": {\"field\": \"b\", \"type\": \"quantitative\"}\n",
    "  }\n",
    "}\n",
    "\"\"\")"
   ]
  },
  {
   "cell_type": "markdown",
   "metadata": {},
   "source": [
    "### Altair gallery\n",
    "\n",
    "Try picking one or more complex examples from the [Altair gallery](https://altair-viz.github.io/gallery/streamgraph.html). What do you think the corresponding vega specification will look like? Write out your expectations, and intrepretation of the Vega output. Is it more verbose or less verbose that you expected?"
   ]
  },
  {
   "cell_type": "code",
   "execution_count": 6,
   "metadata": {},
   "outputs": [
    {
     "name": "stdout",
     "output_type": "stream",
     "text": [
      "https://cdn.jsdelivr.net/npm/vega-datasets@v1.29.0/data/unemployment-across-industries.json\n"
     ]
    },
    {
     "data": {
      "text/html": [
       "\n",
       "<div id=\"altair-viz-089cc43277c14dd4aa305ed0eb0843db\"></div>\n",
       "<script type=\"text/javascript\">\n",
       "  var VEGA_DEBUG = (typeof VEGA_DEBUG == \"undefined\") ? {} : VEGA_DEBUG;\n",
       "  (function(spec, embedOpt){\n",
       "    let outputDiv = document.currentScript.previousElementSibling;\n",
       "    if (outputDiv.id !== \"altair-viz-089cc43277c14dd4aa305ed0eb0843db\") {\n",
       "      outputDiv = document.getElementById(\"altair-viz-089cc43277c14dd4aa305ed0eb0843db\");\n",
       "    }\n",
       "    const paths = {\n",
       "      \"vega\": \"https://cdn.jsdelivr.net/npm//vega@5?noext\",\n",
       "      \"vega-lib\": \"https://cdn.jsdelivr.net/npm//vega-lib?noext\",\n",
       "      \"vega-lite\": \"https://cdn.jsdelivr.net/npm//vega-lite@4.17.0?noext\",\n",
       "      \"vega-embed\": \"https://cdn.jsdelivr.net/npm//vega-embed@6?noext\",\n",
       "    };\n",
       "\n",
       "    function maybeLoadScript(lib, version) {\n",
       "      var key = `${lib.replace(\"-\", \"\")}_version`;\n",
       "      return (VEGA_DEBUG[key] == version) ?\n",
       "        Promise.resolve(paths[lib]) :\n",
       "        new Promise(function(resolve, reject) {\n",
       "          var s = document.createElement('script');\n",
       "          document.getElementsByTagName(\"head\")[0].appendChild(s);\n",
       "          s.async = true;\n",
       "          s.onload = () => {\n",
       "            VEGA_DEBUG[key] = version;\n",
       "            return resolve(paths[lib]);\n",
       "          };\n",
       "          s.onerror = () => reject(`Error loading script: ${paths[lib]}`);\n",
       "          s.src = paths[lib];\n",
       "        });\n",
       "    }\n",
       "\n",
       "    function showError(err) {\n",
       "      outputDiv.innerHTML = `<div class=\"error\" style=\"color:red;\">${err}</div>`;\n",
       "      throw err;\n",
       "    }\n",
       "\n",
       "    function displayChart(vegaEmbed) {\n",
       "      vegaEmbed(outputDiv, spec, embedOpt)\n",
       "        .catch(err => showError(`Javascript Error: ${err.message}<br>This usually means there's a typo in your chart specification. See the javascript console for the full traceback.`));\n",
       "    }\n",
       "\n",
       "    if(typeof define === \"function\" && define.amd) {\n",
       "      requirejs.config({paths});\n",
       "      require([\"vega-embed\"], displayChart, err => showError(`Error loading script: ${err.message}`));\n",
       "    } else {\n",
       "      maybeLoadScript(\"vega\", \"5\")\n",
       "        .then(() => maybeLoadScript(\"vega-lite\", \"4.17.0\"))\n",
       "        .then(() => maybeLoadScript(\"vega-embed\", \"6\"))\n",
       "        .catch(showError)\n",
       "        .then(() => displayChart(vegaEmbed));\n",
       "    }\n",
       "  })({\"config\": {\"view\": {\"continuousWidth\": 400, \"continuousHeight\": 300}}, \"data\": {\"url\": \"https://cdn.jsdelivr.net/npm/vega-datasets@v1.29.0/data/unemployment-across-industries.json\"}, \"mark\": \"area\", \"encoding\": {\"color\": {\"field\": \"series\", \"scale\": {\"scheme\": \"category20b\"}, \"type\": \"nominal\"}, \"x\": {\"axis\": {\"domain\": false, \"format\": \"%Y\", \"tickSize\": 0}, \"field\": \"date\", \"timeUnit\": \"yearmonth\", \"type\": \"temporal\"}, \"y\": {\"aggregate\": \"sum\", \"axis\": null, \"field\": \"count\", \"stack\": \"center\", \"type\": \"quantitative\"}}, \"selection\": {\"selector001\": {\"type\": \"interval\", \"bind\": \"scales\", \"encodings\": [\"x\", \"y\"]}}, \"$schema\": \"https://vega.github.io/schema/vega-lite/v4.17.0.json\"}, {\"mode\": \"vega-lite\"});\n",
       "</script>"
      ],
      "text/plain": [
       "alt.Chart(...)"
      ]
     },
     "execution_count": 6,
     "metadata": {},
     "output_type": "execute_result"
    }
   ],
   "source": [
    "import altair as alt\n",
    "from vega_datasets import data\n",
    "\n",
    "source = data.unemployment_across_industries.url\n",
    "\n",
    "print(source)\n",
    "\n",
    "alt.Chart(source).mark_area().encode(\n",
    "    alt.X('yearmonth(date):T',\n",
    "        axis=alt.Axis(format='%Y', domain=False, tickSize=0)\n",
    "    ),\n",
    "    alt.Y('sum(count):Q', stack='center', axis=None),\n",
    "    alt.Color('series:N',\n",
    "        scale=alt.Scale(scheme='category20b')\n",
    "    )\n",
    ").interactive()"
   ]
  },
  {
   "cell_type": "code",
   "execution_count": 6,
   "metadata": {},
   "outputs": [
    {
     "name": "stdout",
     "output_type": "stream",
     "text": [
      "{\n",
      "  \"$schema\": \"https://vega.github.io/schema/vega-lite/v4.17.0.json\",\n",
      "  \"config\": {\n",
      "    \"view\": {\n",
      "      \"continuousHeight\": 300,\n",
      "      \"continuousWidth\": 400\n",
      "    }\n",
      "  },\n",
      "  \"data\": {\n",
      "    \"url\": \"https://cdn.jsdelivr.net/npm/vega-datasets@v1.29.0/data/unemployment-across-industries.json\"\n",
      "  },\n",
      "  \"encoding\": {\n",
      "    \"color\": {\n",
      "      \"field\": \"series\",\n",
      "      \"scale\": {\n",
      "        \"scheme\": \"category20b\"\n",
      "      },\n",
      "      \"type\": \"nominal\"\n",
      "    },\n",
      "    \"x\": {\n",
      "      \"axis\": {\n",
      "        \"domain\": false,\n",
      "        \"format\": \"%Y\",\n",
      "        \"tickSize\": 0\n",
      "      },\n",
      "      \"field\": \"date\",\n",
      "      \"timeUnit\": \"yearmonth\",\n",
      "      \"type\": \"temporal\"\n",
      "    },\n",
      "    \"y\": {\n",
      "      \"aggregate\": \"sum\",\n",
      "      \"axis\": null,\n",
      "      \"field\": \"count\",\n",
      "      \"stack\": \"center\",\n",
      "      \"type\": \"quantitative\"\n",
      "    }\n",
      "  },\n",
      "  \"mark\": \"area\"\n",
      "}\n"
     ]
    }
   ],
   "source": [
    "print(alt.Chart(source).mark_area().encode(\n",
    "    alt.X('yearmonth(date):T',\n",
    "        axis=alt.Axis(format='%Y', domain=False, tickSize=0)\n",
    "    ),\n",
    "    alt.Y('sum(count):Q', stack='center', axis=None),\n",
    "    alt.Color('series:N',\n",
    "        scale=alt.Scale(scheme='category20b')\n",
    "    )\n",
    ").to_json())\n",
    "\n"
   ]
  },
  {
   "cell_type": "code",
   "execution_count": null,
   "metadata": {},
   "outputs": [],
   "source": []
  },
  {
   "cell_type": "code",
   "execution_count": null,
   "metadata": {},
   "outputs": [],
   "source": []
  }
 ],
 "metadata": {
  "kernelspec": {
   "display_name": "Python 3",
   "language": "python",
   "name": "python3"
  },
  "language_info": {
   "codemirror_mode": {
    "name": "ipython",
    "version": 3
   },
   "file_extension": ".py",
   "mimetype": "text/x-python",
   "name": "python",
   "nbconvert_exporter": "python",
   "pygments_lexer": "ipython3",
   "version": "3.7.5"
  }
 },
 "nbformat": 4,
 "nbformat_minor": 4
}
