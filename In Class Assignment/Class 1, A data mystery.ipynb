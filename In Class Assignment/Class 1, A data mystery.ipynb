{
 "cells": [
  {
   "cell_type": "markdown",
   "id": "99fb9a99",
   "metadata": {},
   "source": [
    "### Lets start off by exploring some data\n",
    "- Load the file `class1.dataset1.csv` from Canvas\n",
    "- For this notebook, you should be familiar with a few statistical ideas:\n",
    "    - [Mean](https://en.wikipedia.org/wiki/Mean)\n",
    "    - [Standard deviation](https://en.wikipedia.org/wiki/Standard_deviation)\n",
    "    - [Correlation](https://numpy.org/doc/stable/reference/generated/numpy.corrcoef.html)\n",
    "\n",
    "You can easily look up how to compute these statistics in Python using a package like numpy."
   ]
  },
  {
   "cell_type": "code",
   "execution_count": 2,
   "id": "48a8e986",
   "metadata": {},
   "outputs": [],
   "source": [
    "import pandas as pd \n",
    "import numpy as np\n",
    "df1 = pd.read_csv(\"class1.dataset1.csv\")"
   ]
  },
  {
   "cell_type": "code",
   "execution_count": 11,
   "id": "634f805a",
   "metadata": {},
   "outputs": [
    {
     "data": {
      "text/html": [
       "<div>\n",
       "<style scoped>\n",
       "    .dataframe tbody tr th:only-of-type {\n",
       "        vertical-align: middle;\n",
       "    }\n",
       "\n",
       "    .dataframe tbody tr th {\n",
       "        vertical-align: top;\n",
       "    }\n",
       "\n",
       "    .dataframe thead th {\n",
       "        text-align: right;\n",
       "    }\n",
       "</style>\n",
       "<table border=\"1\" class=\"dataframe\">\n",
       "  <thead>\n",
       "    <tr style=\"text-align: right;\">\n",
       "      <th></th>\n",
       "      <th>Unnamed: 0</th>\n",
       "      <th>x</th>\n",
       "      <th>y</th>\n",
       "    </tr>\n",
       "  </thead>\n",
       "  <tbody>\n",
       "    <tr>\n",
       "      <th>0</th>\n",
       "      <td>0</td>\n",
       "      <td>10.0</td>\n",
       "      <td>8.04</td>\n",
       "    </tr>\n",
       "    <tr>\n",
       "      <th>1</th>\n",
       "      <td>1</td>\n",
       "      <td>8.0</td>\n",
       "      <td>6.95</td>\n",
       "    </tr>\n",
       "    <tr>\n",
       "      <th>2</th>\n",
       "      <td>2</td>\n",
       "      <td>13.0</td>\n",
       "      <td>7.58</td>\n",
       "    </tr>\n",
       "    <tr>\n",
       "      <th>3</th>\n",
       "      <td>3</td>\n",
       "      <td>9.0</td>\n",
       "      <td>8.81</td>\n",
       "    </tr>\n",
       "    <tr>\n",
       "      <th>4</th>\n",
       "      <td>4</td>\n",
       "      <td>11.0</td>\n",
       "      <td>8.33</td>\n",
       "    </tr>\n",
       "    <tr>\n",
       "      <th>5</th>\n",
       "      <td>5</td>\n",
       "      <td>14.0</td>\n",
       "      <td>9.96</td>\n",
       "    </tr>\n",
       "    <tr>\n",
       "      <th>6</th>\n",
       "      <td>6</td>\n",
       "      <td>6.0</td>\n",
       "      <td>7.24</td>\n",
       "    </tr>\n",
       "    <tr>\n",
       "      <th>7</th>\n",
       "      <td>7</td>\n",
       "      <td>4.0</td>\n",
       "      <td>4.26</td>\n",
       "    </tr>\n",
       "    <tr>\n",
       "      <th>8</th>\n",
       "      <td>8</td>\n",
       "      <td>12.0</td>\n",
       "      <td>10.84</td>\n",
       "    </tr>\n",
       "    <tr>\n",
       "      <th>9</th>\n",
       "      <td>9</td>\n",
       "      <td>7.0</td>\n",
       "      <td>4.82</td>\n",
       "    </tr>\n",
       "    <tr>\n",
       "      <th>10</th>\n",
       "      <td>10</td>\n",
       "      <td>5.0</td>\n",
       "      <td>5.68</td>\n",
       "    </tr>\n",
       "  </tbody>\n",
       "</table>\n",
       "</div>"
      ],
      "text/plain": [
       "    Unnamed: 0     x      y\n",
       "0            0  10.0   8.04\n",
       "1            1   8.0   6.95\n",
       "2            2  13.0   7.58\n",
       "3            3   9.0   8.81\n",
       "4            4  11.0   8.33\n",
       "5            5  14.0   9.96\n",
       "6            6   6.0   7.24\n",
       "7            7   4.0   4.26\n",
       "8            8  12.0  10.84\n",
       "9            9   7.0   4.82\n",
       "10          10   5.0   5.68"
      ]
     },
     "execution_count": 11,
     "metadata": {},
     "output_type": "execute_result"
    }
   ],
   "source": [
    "df1"
   ]
  },
  {
   "cell_type": "markdown",
   "id": "b221caa9",
   "metadata": {},
   "source": [
    "### Dataset 1\n",
    "\n",
    "##### Compute the mean \n",
    "\n",
    "Using the software of your choice (numpy?), compute the mean of the the `y` values in the first dataset."
   ]
  },
  {
   "cell_type": "code",
   "execution_count": 6,
   "id": "6b13c22e",
   "metadata": {},
   "outputs": [
    {
     "data": {
      "text/plain": [
       "7.500909090909093"
      ]
     },
     "execution_count": 6,
     "metadata": {},
     "output_type": "execute_result"
    }
   ],
   "source": [
    "np.mean(df1[\"y\"])"
   ]
  },
  {
   "cell_type": "markdown",
   "id": "3aad3ea2",
   "metadata": {},
   "source": [
    "- Now compute the mean of the `x` values in the dataset "
   ]
  },
  {
   "cell_type": "code",
   "execution_count": 7,
   "id": "2d21c5c9",
   "metadata": {},
   "outputs": [
    {
     "data": {
      "text/plain": [
       "9.0"
      ]
     },
     "execution_count": 7,
     "metadata": {},
     "output_type": "execute_result"
    }
   ],
   "source": [
    "np.mean(df1[\"x\"])"
   ]
  },
  {
   "cell_type": "markdown",
   "id": "3439b8bc",
   "metadata": {},
   "source": [
    "##### Compute the standard deviation \n",
    "\n",
    "- Compute the standard deviation of `x` and `y`"
   ]
  },
  {
   "cell_type": "code",
   "execution_count": 14,
   "id": "1b9a1312",
   "metadata": {},
   "outputs": [
    {
     "data": {
      "text/plain": [
       "3.1622776601683795"
      ]
     },
     "execution_count": 14,
     "metadata": {},
     "output_type": "execute_result"
    }
   ],
   "source": [
    "np.std(df1[\"x\"])"
   ]
  },
  {
   "cell_type": "code",
   "execution_count": 10,
   "id": "7c101411",
   "metadata": {},
   "outputs": [
    {
     "data": {
      "text/plain": [
       "1.937024215108669"
      ]
     },
     "execution_count": 10,
     "metadata": {},
     "output_type": "execute_result"
    }
   ],
   "source": [
    "np.std(df1[\"y\"])"
   ]
  },
  {
   "cell_type": "markdown",
   "id": "42348cbe",
   "metadata": {},
   "source": [
    "##### Compute the correlation\n",
    "\n",
    "- Compute the correlation of `x` and `y`"
   ]
  },
  {
   "cell_type": "code",
   "execution_count": 18,
   "id": "fc866651",
   "metadata": {},
   "outputs": [
    {
     "data": {
      "text/plain": [
       "0.81642051634484"
      ]
     },
     "execution_count": 18,
     "metadata": {},
     "output_type": "execute_result"
    }
   ],
   "source": [
    "np.corrcoef(df1[\"x\"],df1[\"y\"])[0][1]"
   ]
  },
  {
   "cell_type": "markdown",
   "id": "28332a64",
   "metadata": {},
   "source": [
    "### Generalize your code by writing a method"
   ]
  },
  {
   "cell_type": "code",
   "execution_count": 19,
   "id": "e5aefda9",
   "metadata": {},
   "outputs": [],
   "source": [
    "def summary_stats(file_name):\n",
    "    '''\n",
    "    Read in a file called `file_name` and return a dictionary of summary stats\n",
    "    \n",
    "    \"mean_x\": The mean of the x observation\n",
    "    \"mean_y\": The mean of the y observation\n",
    "    \"sd_x\": The standard deviation of the x observation\n",
    "    \"sd_y\": The standard deviation of the y observation\n",
    "    \"corr\": The correlation between x and y\n",
    "    '''\n",
    "    output = {\"mean_x\": None,\n",
    "              \"mean_y\": None,\n",
    "              \"sd_x\": None,\n",
    "              \"sd_y\": None,\n",
    "              \"corr\": None}\n",
    "    df = pd.read_csv(file_name)\n",
    "\n",
    "    # your code here\n",
    "    output[\"mean_x\"]=np.mean(df[\"x\"])\n",
    "    output[\"mean_y\"]=np.mean(df[\"y\"])\n",
    "    output[\"sd_x\"]=np.std(df[\"x\"])\n",
    "    output[\"sd_y\"]=np.std(df[\"y\"])\n",
    "    output[\"corr\"]=np.corrcoef(df[\"x\"],df[\"y\"])[0][1]\n",
    "    \n",
    "    return output"
   ]
  },
  {
   "cell_type": "code",
   "execution_count": 20,
   "id": "3eb6dddf",
   "metadata": {},
   "outputs": [
    {
     "data": {
      "text/plain": [
       "{'mean_x': 9.0,\n",
       " 'mean_y': 7.500909090909093,\n",
       " 'sd_x': 3.1622776601683795,\n",
       " 'sd_y': 1.937024215108669,\n",
       " 'corr': 0.81642051634484}"
      ]
     },
     "execution_count": 20,
     "metadata": {},
     "output_type": "execute_result"
    }
   ],
   "source": [
    "summary_stats(\"class1.dataset1.csv\")"
   ]
  },
  {
   "cell_type": "markdown",
   "id": "7200ed06",
   "metadata": {},
   "source": [
    "### Use your method to compute summary statistics for the four datasets"
   ]
  },
  {
   "cell_type": "code",
   "execution_count": 21,
   "id": "58654624",
   "metadata": {},
   "outputs": [
    {
     "name": "stdout",
     "output_type": "stream",
     "text": [
      "{'mean_x': 9.0, 'mean_y': 7.500909090909093, 'sd_x': 3.1622776601683795, 'sd_y': 1.937024215108669, 'corr': 0.81642051634484}\n",
      "{'mean_x': 9.0, 'mean_y': 7.500909090909091, 'sd_x': 3.1622776601683795, 'sd_y': 1.93710869148962, 'corr': 0.8162365060002428}\n",
      "{'mean_x': 9.0, 'mean_y': 7.500000000000001, 'sd_x': 3.1622776601683795, 'sd_y': 1.9359329439927313, 'corr': 0.8162867394895984}\n",
      "{'mean_x': 9.0, 'mean_y': 7.50090909090909, 'sd_x': 3.1622776601683795, 'sd_y': 1.9360806451340837, 'corr': -0.314046706495578}\n"
     ]
    }
   ],
   "source": [
    "for i in range(1,5):\n",
    "    file_name = \"class1.dataset{}.csv\".format(i)\n",
    "    print(summary_stats(file_name))\n",
    "    # pass"
   ]
  },
  {
   "cell_type": "markdown",
   "id": "4de2a19e",
   "metadata": {},
   "source": [
    "### Comment on your observations\n",
    "\n",
    "Based on your code so far, do you think the datasets are identical? Can you spot any differences? Explain your reasoning\n",
    "\n",
    "Base on the code above, all the mean_x, mean_y, sd_x, sd_y and correlation are the identical. The reason is all 4 datasets have the same mean and standard division."
   ]
  },
  {
   "cell_type": "markdown",
   "id": "d271fd22",
   "metadata": {},
   "source": [
    "### Now let's make some scatter plots!"
   ]
  },
  {
   "cell_type": "code",
   "execution_count": 29,
   "id": "4a51c333",
   "metadata": {},
   "outputs": [
    {
     "data": {
      "text/html": [
       "\n",
       "<div id=\"altair-viz-a5d16e8a163e43e4ac54a8435564e3ec\"></div>\n",
       "<script type=\"text/javascript\">\n",
       "  var VEGA_DEBUG = (typeof VEGA_DEBUG == \"undefined\") ? {} : VEGA_DEBUG;\n",
       "  (function(spec, embedOpt){\n",
       "    let outputDiv = document.currentScript.previousElementSibling;\n",
       "    if (outputDiv.id !== \"altair-viz-a5d16e8a163e43e4ac54a8435564e3ec\") {\n",
       "      outputDiv = document.getElementById(\"altair-viz-a5d16e8a163e43e4ac54a8435564e3ec\");\n",
       "    }\n",
       "    const paths = {\n",
       "      \"vega\": \"https://cdn.jsdelivr.net/npm//vega@5?noext\",\n",
       "      \"vega-lib\": \"https://cdn.jsdelivr.net/npm//vega-lib?noext\",\n",
       "      \"vega-lite\": \"https://cdn.jsdelivr.net/npm//vega-lite@4.17.0?noext\",\n",
       "      \"vega-embed\": \"https://cdn.jsdelivr.net/npm//vega-embed@6?noext\",\n",
       "    };\n",
       "\n",
       "    function maybeLoadScript(lib, version) {\n",
       "      var key = `${lib.replace(\"-\", \"\")}_version`;\n",
       "      return (VEGA_DEBUG[key] == version) ?\n",
       "        Promise.resolve(paths[lib]) :\n",
       "        new Promise(function(resolve, reject) {\n",
       "          var s = document.createElement('script');\n",
       "          document.getElementsByTagName(\"head\")[0].appendChild(s);\n",
       "          s.async = true;\n",
       "          s.onload = () => {\n",
       "            VEGA_DEBUG[key] = version;\n",
       "            return resolve(paths[lib]);\n",
       "          };\n",
       "          s.onerror = () => reject(`Error loading script: ${paths[lib]}`);\n",
       "          s.src = paths[lib];\n",
       "        });\n",
       "    }\n",
       "\n",
       "    function showError(err) {\n",
       "      outputDiv.innerHTML = `<div class=\"error\" style=\"color:red;\">${err}</div>`;\n",
       "      throw err;\n",
       "    }\n",
       "\n",
       "    function displayChart(vegaEmbed) {\n",
       "      vegaEmbed(outputDiv, spec, embedOpt)\n",
       "        .catch(err => showError(`Javascript Error: ${err.message}<br>This usually means there's a typo in your chart specification. See the javascript console for the full traceback.`));\n",
       "    }\n",
       "\n",
       "    if(typeof define === \"function\" && define.amd) {\n",
       "      requirejs.config({paths});\n",
       "      require([\"vega-embed\"], displayChart, err => showError(`Error loading script: ${err.message}`));\n",
       "    } else {\n",
       "      maybeLoadScript(\"vega\", \"5\")\n",
       "        .then(() => maybeLoadScript(\"vega-lite\", \"4.17.0\"))\n",
       "        .then(() => maybeLoadScript(\"vega-embed\", \"6\"))\n",
       "        .catch(showError)\n",
       "        .then(() => displayChart(vegaEmbed));\n",
       "    }\n",
       "  })({\"config\": {\"view\": {\"continuousWidth\": 400, \"continuousHeight\": 300}}, \"hconcat\": [{\"data\": {\"name\": \"data-dc04197eadb05e03e953a5714f4c35b4\"}, \"mark\": \"circle\", \"encoding\": {\"x\": {\"field\": \"x\", \"type\": \"quantitative\"}, \"y\": {\"field\": \"y\", \"type\": \"quantitative\"}}, \"height\": 100, \"width\": 100}, {\"data\": {\"name\": \"data-d1e6243f0444e95c6a869fb9ce9ffbd6\"}, \"mark\": \"circle\", \"encoding\": {\"x\": {\"field\": \"x\", \"type\": \"quantitative\"}, \"y\": {\"field\": \"y\", \"type\": \"quantitative\"}}, \"height\": 100, \"width\": 100}, {\"data\": {\"name\": \"data-5024a805217a8501c5c6d31081780bab\"}, \"mark\": \"circle\", \"encoding\": {\"x\": {\"field\": \"x\", \"type\": \"quantitative\"}, \"y\": {\"field\": \"y\", \"type\": \"quantitative\"}}, \"height\": 100, \"width\": 100}, {\"data\": {\"name\": \"data-b9884f90ec78fae1ef24e1b2fd02a5a6\"}, \"mark\": \"circle\", \"encoding\": {\"x\": {\"field\": \"x\", \"type\": \"quantitative\"}, \"y\": {\"field\": \"y\", \"type\": \"quantitative\"}}, \"height\": 100, \"width\": 100}], \"$schema\": \"https://vega.github.io/schema/vega-lite/v4.17.0.json\", \"datasets\": {\"data-dc04197eadb05e03e953a5714f4c35b4\": [{\"Unnamed: 0\": 0, \"x\": 10.0, \"y\": 8.04}, {\"Unnamed: 0\": 1, \"x\": 8.0, \"y\": 6.95}, {\"Unnamed: 0\": 2, \"x\": 13.0, \"y\": 7.58}, {\"Unnamed: 0\": 3, \"x\": 9.0, \"y\": 8.81}, {\"Unnamed: 0\": 4, \"x\": 11.0, \"y\": 8.33}, {\"Unnamed: 0\": 5, \"x\": 14.0, \"y\": 9.96}, {\"Unnamed: 0\": 6, \"x\": 6.0, \"y\": 7.24}, {\"Unnamed: 0\": 7, \"x\": 4.0, \"y\": 4.26}, {\"Unnamed: 0\": 8, \"x\": 12.0, \"y\": 10.84}, {\"Unnamed: 0\": 9, \"x\": 7.0, \"y\": 4.82}, {\"Unnamed: 0\": 10, \"x\": 5.0, \"y\": 5.68}], \"data-d1e6243f0444e95c6a869fb9ce9ffbd6\": [{\"Unnamed: 0\": 0, \"x\": 10.0, \"y\": 9.14}, {\"Unnamed: 0\": 1, \"x\": 8.0, \"y\": 8.14}, {\"Unnamed: 0\": 2, \"x\": 13.0, \"y\": 8.74}, {\"Unnamed: 0\": 3, \"x\": 9.0, \"y\": 8.77}, {\"Unnamed: 0\": 4, \"x\": 11.0, \"y\": 9.26}, {\"Unnamed: 0\": 5, \"x\": 14.0, \"y\": 8.1}, {\"Unnamed: 0\": 6, \"x\": 6.0, \"y\": 6.13}, {\"Unnamed: 0\": 7, \"x\": 4.0, \"y\": 3.1}, {\"Unnamed: 0\": 8, \"x\": 12.0, \"y\": 9.13}, {\"Unnamed: 0\": 9, \"x\": 7.0, \"y\": 7.26}, {\"Unnamed: 0\": 10, \"x\": 5.0, \"y\": 4.74}], \"data-5024a805217a8501c5c6d31081780bab\": [{\"Unnamed: 0\": 0, \"x\": 10.0, \"y\": 7.46}, {\"Unnamed: 0\": 1, \"x\": 8.0, \"y\": 6.77}, {\"Unnamed: 0\": 2, \"x\": 13.0, \"y\": 12.74}, {\"Unnamed: 0\": 3, \"x\": 9.0, \"y\": 7.11}, {\"Unnamed: 0\": 4, \"x\": 11.0, \"y\": 7.81}, {\"Unnamed: 0\": 5, \"x\": 14.0, \"y\": 8.84}, {\"Unnamed: 0\": 6, \"x\": 6.0, \"y\": 6.08}, {\"Unnamed: 0\": 7, \"x\": 4.0, \"y\": 5.39}, {\"Unnamed: 0\": 8, \"x\": 12.0, \"y\": 8.15}, {\"Unnamed: 0\": 9, \"x\": 7.0, \"y\": 6.42}, {\"Unnamed: 0\": 10, \"x\": 5.0, \"y\": 5.73}], \"data-b9884f90ec78fae1ef24e1b2fd02a5a6\": [{\"Unnamed: 0\": 0, \"x\": 10.0, \"y\": 6.58}, {\"Unnamed: 0\": 1, \"x\": 8.0, \"y\": 5.76}, {\"Unnamed: 0\": 2, \"x\": 13.0, \"y\": 7.71}, {\"Unnamed: 0\": 3, \"x\": 9.0, \"y\": 8.84}, {\"Unnamed: 0\": 4, \"x\": 11.0, \"y\": 8.47}, {\"Unnamed: 0\": 5, \"x\": 14.0, \"y\": 7.04}, {\"Unnamed: 0\": 6, \"x\": 6.0, \"y\": 5.25}, {\"Unnamed: 0\": 7, \"x\": 4.0, \"y\": 12.5}, {\"Unnamed: 0\": 8, \"x\": 12.0, \"y\": 5.56}, {\"Unnamed: 0\": 9, \"x\": 7.0, \"y\": 7.91}, {\"Unnamed: 0\": 10, \"x\": 5.0, \"y\": 6.89}]}}, {\"mode\": \"vega-lite\"});\n",
       "</script>"
      ],
      "text/plain": [
       "alt.HConcatChart(...)"
      ]
     },
     "execution_count": 29,
     "metadata": {},
     "output_type": "execute_result"
    }
   ],
   "source": [
    "import altair as alt \n",
    "\n",
    "charts = [] \n",
    "\n",
    "for i in range(1, 5):\n",
    "\n",
    "    c = alt.Chart(pd.read_csv(\"class1.dataset{}.csv\".format(i))).mark_circle().encode(\n",
    "        x='x',\n",
    "        y='y'\n",
    "    ).properties(\n",
    "        height=100,\n",
    "        width=100\n",
    "    )\n",
    "    \n",
    "    charts.append(c)\n",
    "    \n",
    "charts[0] | charts[1] |  charts[2] |  charts[3]"
   ]
  },
  {
   "cell_type": "markdown",
   "id": "dcdd39b1",
   "metadata": {},
   "source": [
    "### What do we observe?\n",
    "\n",
    "Your answer here\n",
    "Base on the graph above, it shows the correlations between x and y in each datasets. The first and last dataset is discrete and second is polynomial, third is a strigth line(ignore the top point)."
   ]
  },
  {
   "cell_type": "markdown",
   "id": "30745e57",
   "metadata": {},
   "source": [
    "You can find an original copy of the data [here](https://www.kaggle.com/carlmcbrideellis/data-anscombes-quartet?select=Anscombe_quartet_data.csv). Don't peek at this until the end."
   ]
  }
 ],
 "metadata": {
  "kernelspec": {
   "display_name": "Python 3",
   "language": "python",
   "name": "python3"
  },
  "language_info": {
   "codemirror_mode": {
    "name": "ipython",
    "version": 3
   },
   "file_extension": ".py",
   "mimetype": "text/x-python",
   "name": "python",
   "nbconvert_exporter": "python",
   "pygments_lexer": "ipython3",
   "version": "3.7.5"
  }
 },
 "nbformat": 4,
 "nbformat_minor": 5
}
